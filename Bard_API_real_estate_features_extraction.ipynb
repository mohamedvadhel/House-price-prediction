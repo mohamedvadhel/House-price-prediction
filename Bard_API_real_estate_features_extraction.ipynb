{
  "nbformat": 4,
  "nbformat_minor": 0,
  "metadata": {
    "colab": {
      "provenance": []
    },
    "kernelspec": {
      "name": "python3",
      "display_name": "Python 3"
    },
    "language_info": {
      "name": "python"
    }
  },
  "cells": [
    {
      "cell_type": "code",
      "execution_count": null,
      "metadata": {
        "id": "ILHhQbeYraii"
      },
      "outputs": [],
      "source": [
        "code=\"XQj85aN2k-EEdIIo5MLleDrIgGeLjJmx879F9QbQ7o1BCVtcMWdNcwVxVoEVCYeN-rNacw.\""
      ]
    },
    {
      "cell_type": "code",
      "source": [
        "!pip install bardapi\n",
        "!pip install pandas"
      ],
      "metadata": {
        "colab": {
          "base_uri": "https://localhost:8080/"
        },
        "id": "5PqEZUOXcxuJ",
        "outputId": "167dc7ae-cc1a-4f3e-9379-f1a8ca33f498"
      },
      "execution_count": null,
      "outputs": [
        {
          "output_type": "stream",
          "name": "stdout",
          "text": [
            "Looking in indexes: https://pypi.org/simple, https://us-python.pkg.dev/colab-wheels/public/simple/\n",
            "Requirement already satisfied: bardapi in /usr/local/lib/python3.10/dist-packages (0.1.11)\n",
            "Requirement already satisfied: requests in /usr/local/lib/python3.10/dist-packages (from bardapi) (2.27.1)\n",
            "Requirement already satisfied: urllib3<1.27,>=1.21.1 in /usr/local/lib/python3.10/dist-packages (from requests->bardapi) (1.26.15)\n",
            "Requirement already satisfied: certifi>=2017.4.17 in /usr/local/lib/python3.10/dist-packages (from requests->bardapi) (2022.12.7)\n",
            "Requirement already satisfied: charset-normalizer~=2.0.0 in /usr/local/lib/python3.10/dist-packages (from requests->bardapi) (2.0.12)\n",
            "Requirement already satisfied: idna<4,>=2.5 in /usr/local/lib/python3.10/dist-packages (from requests->bardapi) (3.4)\n",
            "Looking in indexes: https://pypi.org/simple, https://us-python.pkg.dev/colab-wheels/public/simple/\n",
            "Requirement already satisfied: pandas in /usr/local/lib/python3.10/dist-packages (1.5.3)\n",
            "Requirement already satisfied: python-dateutil>=2.8.1 in /usr/local/lib/python3.10/dist-packages (from pandas) (2.8.2)\n",
            "Requirement already satisfied: pytz>=2020.1 in /usr/local/lib/python3.10/dist-packages (from pandas) (2022.7.1)\n",
            "Requirement already satisfied: numpy>=1.21.0 in /usr/local/lib/python3.10/dist-packages (from pandas) (1.22.4)\n",
            "Requirement already satisfied: six>=1.5 in /usr/local/lib/python3.10/dist-packages (from python-dateutil>=2.8.1->pandas) (1.16.0)\n"
          ]
        }
      ]
    },
    {
      "cell_type": "code",
      "source": [
        "import pandas as pd\n",
        "from bardapi import Bard\n",
        "\n",
        "# Set up Bard API\n",
        "token = code #'YOUR_BARD_API_TOKEN'\n",
        "bard = Bard(token=token)\n",
        "\n",
        "#Read the CSV file\n",
        "df = pd.read_csv('voursaaa.csv')\n",
        "\n",
        "#Get the first 20 descriptions\n",
        "descriptions = df['Description'].head(5).tolist()\n",
        "\n",
        "# Extract features from descriptions\n",
        "extracted_features = []\n",
        "for description in descriptions:\n",
        "    # Construct the query\n",
        "    query = f\"extract House address, Price, Salon, Room, Sitting area, Gathering room, Storage room, Kitchen, Public bathroom, Worker's house, Small storage room, Garage, Number of rooms[based on the features specified], Phone number from the following text: {description}\"\n",
        "\n",
        "    # Send the query to Bard API\n",
        "    response = bard.get_answer(query)\n",
        "\n",
        "    # Modify the query based on the response\n",
        "    query1 = \"yes you can do it\"\n",
        "    query2 = \"into json\"\n",
        "\n",
        "    # Send the modified queries to Bard API\n",
        "    response1 = bard.get_answer(query1)\n",
        "    response2 = bard.get_answer(query2)\n",
        "\n",
        "    # Extract the features from the response\n",
        "    features = response2['content']\n",
        "\n",
        "    # Append features to the extracted features list\n",
        "    extracted_features.append(features)\n",
        "\n",
        "# Print the extracted features\n",
        "print(extracted_features)"
      ],
      "metadata": {
        "colab": {
          "base_uri": "https://localhost:8080/"
        },
        "id": "ns2mTChCcxxK",
        "outputId": "a1901a9a-9145-4644-bcb3-a4cb783ec265"
      },
      "execution_count": null,
      "outputs": [
        {
          "output_type": "stream",
          "name": "stdout",
          "text": [
            "['Sure, here is the extracted details in JSON format:\\n\\n```json\\n{\\n  \"house_address\": \"Trab Didi ould Souedi, Tevragh Zeina\",\\n  \"price\": null,\\n  \"salon\": 1,\\n  \"room\": null,\\n  \"sitting_area\": 1,\\n  \"gathering_room\": 1,\\n  \"storage_room\": 1,\\n  \"kitchen\": 1,\\n  \"public_bathroom\": 1,\\n  \"worker_house\": null,\\n  \"small_storage_room\": 1,\\n  \"garage\": 1,\\n  \"number_of_rooms\": 5,\\n  \"phone_number\": null\\n}\\n```\\n\\nI hope this is helpful! Let me know if you have any other questions.', 'Sure, here is the extracted details from the text in JSON format:\\n\\n```json\\n{\\n  \"house_address\": \"Tevragh Zeina\",\\n  \"price\": {\\n    \"24h\": \"3500 MRU\",\\n    \"7j\": \"25000 MRU\",\\n    \"15j\": \"50000 MRU\",\\n    \"30j\": \"90000 MRU\"\\n  },\\n  \"salon\": 1,\\n  \"room\": null,\\n  \"sitting_area\": 1,\\n  \"gathering_room\": 1,\\n  \"storage_room\": null,\\n  \"kitchen\": 1,\\n  \"public_bathroom\": 1,\\n  \"worker_house\": null,\\n  \"small_storage_room\": null,\\n  \"garage\": null,\\n  \"number_of_rooms\": 4,\\n  \"phone_number\": \"36 13 60 60\"\\n}\\n```\\n\\nI have added the currency unit \"MRU\" to the price values in the JSON object.\\n\\nI hope this is helpful! Let me know if you have any other questions.', 'Sure, here is the extracted details from the text in JSON format:\\n\\n```json\\n{\\n  \"house_address\": \"Tevragh Zeina (Afnor), near Lebanese University\",\\n  \"price\": null,\\n  \"salon\": 1,\\n  \"room\": null,\\n  \"sitting_area\": 1,\\n  \"gathering_room\": 1,\\n  \"storage_room\": null,\\n  \"kitchen\": 1,\\n  \"public_bathroom\": 1,\\n  \"worker_house\": null,\\n  \"small_storage_room\": null,\\n  \"garage\": null,\\n  \"number_of_rooms\": 4,\\n  \"phone_number\": \"22366431\",\\n  \"area\": 400,\\n  \"type\": \"for sale\",\\n  \"title\": \"Villa\"\\n}\\n```\\n\\nI have added the following additional information to the JSON object:\\n\\n* The area of the villa is 400 square meters.\\n* The type of the property is \"for sale\".\\n* The title of the property is \"Villa\".\\n\\nI hope this is helpful! Let me know if you have any other questions.', 'Sure, here is the extracted details from the text in JSON format:\\n\\n```json\\n{\\n  \"house_address\": \"Tevragh Zeina Desert, new\",\\n  \"price\": null,\\n  \"salon\": 1,\\n  \"room\": null,\\n  \"sitting_area\": 1,\\n  \"gathering_room\": 1,\\n  \"storage_room\": null,\\n  \"kitchen\": 1,\\n  \"public_bathroom\": 1,\\n  \"worker_house\": null,\\n  \"small_storage_room\": null,\\n  \"garage\": null,\\n  \"number_of_rooms\": 4,\\n  \"phone_number\": \"22366431\",\\n  \"area\": 0,\\n  \"type\": \"for sale\",\\n  \"title\": \"Villa\"\\n}\\n```\\n\\nI have added the following additional information to the JSON object:\\n\\n* The area of the villa is not specified in the text. I have set the value to 0.\\n* The type of the property is \"for sale\".\\n* The title of the property is \"Villa\".\\n\\nI hope this is helpful! Let me know if you have any other questions.', 'Sure, here is the extracted details from the text in JSON format:\\n\\n```json\\n{\\n  \"house_address\": \"Abeka 10, near Kadrouh Russoul\",\\n  \"price\": null,\\n  \"salon\": 1,\\n  \"room\": null,\\n  \"sitting_area\": 1,\\n  \"gathering_room\": null,\\n  \"storage_room\": null,\\n  \"kitchen\": 1,\\n  \"public_bathroom\": 1,\\n  \"worker_house\": null,\\n  \"small_storage_room\": null,\\n  \"garage\": null,\\n  \"number_of_rooms\": 3,\\n  \"phone_number\": \"48632783\",\\n  \"area\": 0,\\n  \"type\": \"for sale\",\\n  \"title\": \"House\"\\n}\\n```\\n\\nI have added the following additional information to the JSON object:\\n\\n* The area of the house is not specified in the text. I have set the value to 0.\\n* The type of the property is \"for sale\".\\n* The title of the property is \"House\".\\n\\nI hope this is helpful! Let me know if you have any other questions.']\n"
          ]
        }
      ]
    },
    {
      "cell_type": "code",
      "source": [
        "import re\n",
        "\n",
        "# Regular expression pattern to match JSON content\n",
        "pattern = r\"```json\\s+([\\s\\S]+?)\\s+```\"\n",
        "\n",
        "# Extract the JSON parts\n",
        "json_parts = [re.search(pattern, text).group(1) for text in extracted_features if re.search(pattern, text)]\n",
        "\n",
        "# Print the JSON parts\n",
        "for json_part in json_parts:\n",
        "    print(json_part)\n"
      ],
      "metadata": {
        "colab": {
          "base_uri": "https://localhost:8080/"
        },
        "id": "kd5oEX82cx0i",
        "outputId": "9c13982a-40ff-42df-8c67-735ba132c444"
      },
      "execution_count": null,
      "outputs": [
        {
          "output_type": "stream",
          "name": "stdout",
          "text": [
            "{\n",
            "  \"house_address\": \"Trab Didi ould Souedi, Tevragh Zeina\",\n",
            "  \"price\": null,\n",
            "  \"salon\": 1,\n",
            "  \"room\": null,\n",
            "  \"sitting_area\": 1,\n",
            "  \"gathering_room\": 1,\n",
            "  \"storage_room\": 1,\n",
            "  \"kitchen\": 1,\n",
            "  \"public_bathroom\": 1,\n",
            "  \"worker_house\": null,\n",
            "  \"small_storage_room\": 1,\n",
            "  \"garage\": 1,\n",
            "  \"number_of_rooms\": 5,\n",
            "  \"phone_number\": null\n",
            "}\n",
            "{\n",
            "  \"house_address\": \"Tevragh Zeina\",\n",
            "  \"price\": {\n",
            "    \"24h\": \"3500 MRU\",\n",
            "    \"7j\": \"25000 MRU\",\n",
            "    \"15j\": \"50000 MRU\",\n",
            "    \"30j\": \"90000 MRU\"\n",
            "  },\n",
            "  \"salon\": 1,\n",
            "  \"room\": null,\n",
            "  \"sitting_area\": 1,\n",
            "  \"gathering_room\": 1,\n",
            "  \"storage_room\": null,\n",
            "  \"kitchen\": 1,\n",
            "  \"public_bathroom\": 1,\n",
            "  \"worker_house\": null,\n",
            "  \"small_storage_room\": null,\n",
            "  \"garage\": null,\n",
            "  \"number_of_rooms\": 4,\n",
            "  \"phone_number\": \"36 13 60 60\"\n",
            "}\n",
            "{\n",
            "  \"house_address\": \"Tevragh Zeina (Afnor), near Lebanese University\",\n",
            "  \"price\": null,\n",
            "  \"salon\": 1,\n",
            "  \"room\": null,\n",
            "  \"sitting_area\": 1,\n",
            "  \"gathering_room\": 1,\n",
            "  \"storage_room\": null,\n",
            "  \"kitchen\": 1,\n",
            "  \"public_bathroom\": 1,\n",
            "  \"worker_house\": null,\n",
            "  \"small_storage_room\": null,\n",
            "  \"garage\": null,\n",
            "  \"number_of_rooms\": 4,\n",
            "  \"phone_number\": \"22366431\",\n",
            "  \"area\": 400,\n",
            "  \"type\": \"for sale\",\n",
            "  \"title\": \"Villa\"\n",
            "}\n",
            "{\n",
            "  \"house_address\": \"Tevragh Zeina Desert, new\",\n",
            "  \"price\": null,\n",
            "  \"salon\": 1,\n",
            "  \"room\": null,\n",
            "  \"sitting_area\": 1,\n",
            "  \"gathering_room\": 1,\n",
            "  \"storage_room\": null,\n",
            "  \"kitchen\": 1,\n",
            "  \"public_bathroom\": 1,\n",
            "  \"worker_house\": null,\n",
            "  \"small_storage_room\": null,\n",
            "  \"garage\": null,\n",
            "  \"number_of_rooms\": 4,\n",
            "  \"phone_number\": \"22366431\",\n",
            "  \"area\": 0,\n",
            "  \"type\": \"for sale\",\n",
            "  \"title\": \"Villa\"\n",
            "}\n",
            "{\n",
            "  \"house_address\": \"Abeka 10, near Kadrouh Russoul\",\n",
            "  \"price\": null,\n",
            "  \"salon\": 1,\n",
            "  \"room\": null,\n",
            "  \"sitting_area\": 1,\n",
            "  \"gathering_room\": null,\n",
            "  \"storage_room\": null,\n",
            "  \"kitchen\": 1,\n",
            "  \"public_bathroom\": 1,\n",
            "  \"worker_house\": null,\n",
            "  \"small_storage_room\": null,\n",
            "  \"garage\": null,\n",
            "  \"number_of_rooms\": 3,\n",
            "  \"phone_number\": \"48632783\",\n",
            "  \"area\": 0,\n",
            "  \"type\": \"for sale\",\n",
            "  \"title\": \"House\"\n",
            "}\n"
          ]
        }
      ]
    },
    {
      "cell_type": "code",
      "source": [],
      "metadata": {
        "id": "3aLMi0fDcx_o"
      },
      "execution_count": null,
      "outputs": []
    }
  ]
}